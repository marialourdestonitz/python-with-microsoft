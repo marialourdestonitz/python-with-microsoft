{
 "cells": [
  {
   "cell_type": "markdown",
   "id": "b427abf5-2bbf-4f83-a335-b53560ef3e98",
   "metadata": {
    "jp-MarkdownHeadingCollapsed": true
   },
   "source": [
    "Filtering, Sorting, Grouping, and Reshaping Operations with Pandas"
   ]
  },
  {
   "cell_type": "markdown",
   "id": "16b435d2-53f1-4d9e-823e-64ee0ece18c4",
   "metadata": {},
   "source": [
    "Digital"
   ]
  }
 ],
 "metadata": {
  "kernelspec": {
   "display_name": "Python (myenv)",
   "language": "python",
   "name": "myenv"
  },
  "language_info": {
   "codemirror_mode": {
    "name": "ipython",
    "version": 3
   },
   "file_extension": ".py",
   "mimetype": "text/x-python",
   "name": "python",
   "nbconvert_exporter": "python",
   "pygments_lexer": "ipython3",
   "version": "3.11.1"
  }
 },
 "nbformat": 4,
 "nbformat_minor": 5
}
