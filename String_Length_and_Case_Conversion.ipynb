{
 "cells": [
  {
   "cell_type": "code",
   "execution_count": null,
   "id": "a254eedb-13e6-4e05-bea4-b42ff7e31a55",
   "metadata": {},
   "outputs": [],
   "source": [
    "String Shenanigans: Fun with Python Built-in String Functions\n",
    "Exercise 1: String Length and Case Conversion\n",
    "Instructions:\n",
    "Start with the provided variables sentence1 and sentence2, which contain the two humorous sentences.\n",
    "\n",
    "Use the len() function to calculate the number of characters in sentence1 and sentence2\n",
    "\n",
    "Apply the upper() function to sentence1 to convert all its characters to uppercase.\n",
    "\n",
    "Apply the lower() function to transform all the characters in sentence2 to lowercase. \n",
    "\n",
    "Print the results. "
   ]
  },
  {
   "cell_type": "code",
   "execution_count": 3,
   "id": "50d7e149-f59f-43f3-be1d-1990426ee197",
   "metadata": {},
   "outputs": [
    {
     "name": "stdout",
     "output_type": "stream",
     "text": [
      "The length of sentence 1 is: 67\n",
      "The length of sentence 2 is: 66\n"
     ]
    }
   ],
   "source": [
    "sentence1 = \"I'm reading a book about anti-gravity. It's impossible to put down!\"\n",
    "sentence2 = \"Why don't scientists trust atoms? Because they make up everything!\"\n",
    "\n",
    "length_sentence1 = len(sentence1)\n",
    "length_sentence2 = len(sentence2)\n",
    "\n",
    "print(f\"The length of sentence 1 is:\", length_sentence1)\n",
    "print(f\"The length of sentence 2 is:\", length_sentence2)"
   ]
  },
  {
   "cell_type": "code",
   "execution_count": 5,
   "id": "38ee78cf-5aaa-44d9-b924-62614bb7c372",
   "metadata": {},
   "outputs": [
    {
     "name": "stdout",
     "output_type": "stream",
     "text": [
      "Upper case of sentence 1: I'M READING A BOOK ABOUT ANTI-GRAVITY. IT'S IMPOSSIBLE TO PUT DOWN!\n",
      "Lower case of sentence 2: why don't scientists trust atoms? because they make up everything!\n"
     ]
    }
   ],
   "source": [
    "uppercase_sentence1 = sentence1.upper()\n",
    "lowercase_sentence2 = sentence2.lower()\n",
    "\n",
    "print(f\"Upper case of sentence 1:\", uppercase_sentence1)\n",
    "print(f\"Lower case of sentence 2:\", lowercase_sentence2)"
   ]
  },
  {
   "cell_type": "code",
   "execution_count": null,
   "id": "81045a49-d5c1-427c-a829-18b854cc1063",
   "metadata": {},
   "outputs": [],
   "source": []
  }
 ],
 "metadata": {
  "kernelspec": {
   "display_name": "Python (myenv)",
   "language": "python",
   "name": "myenv"
  },
  "language_info": {
   "codemirror_mode": {
    "name": "ipython",
    "version": 3
   },
   "file_extension": ".py",
   "mimetype": "text/x-python",
   "name": "python",
   "nbconvert_exporter": "python",
   "pygments_lexer": "ipython3",
   "version": "3.11.1"
  }
 },
 "nbformat": 4,
 "nbformat_minor": 5
}
