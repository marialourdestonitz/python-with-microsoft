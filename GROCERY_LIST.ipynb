{
 "cells": [
  {
   "cell_type": "code",
   "execution_count": 4,
   "id": "167d70e2-3276-410f-9482-05294cd76158",
   "metadata": {},
   "outputs": [
    {
     "name": "stdout",
     "output_type": "stream",
     "text": [
      "['Milk', 'Eggs', 'Bread', 'Apples', 'Bananas', 'Oranges', 'Grapes', 'Strawberries', 'Blueberries', 'Pineapple', 'Mango', 'Avocado', 'Tomato', 'Cucumber', 'Lettuce', 'Spinach', 'Broccoli', 'Carrots', 'Potatoes', 'Onions', 'Garlic', 'Ginger', 'Chicken', 'Beef', 'Pork', 'Salmon', 'Tuna', 'Rice', 'Pasta', 'Bread (whole wheat)', 'Cereal', 'Oatmeal', 'Yogurt', 'Milk (almond)', 'Cheese (cheddar)', 'Eggs (organic)', 'Butter', 'Olive oil', 'Salt', 'Pepper', 'Sugar', 'Coffee', 'Tea', 'Chocolate', 'Cookies', 'Chips', 'Ice cream', 'Pizza', 'Pasta sauce', 'Ketchup', 'Mustard']\n"
     ]
    }
   ],
   "source": [
    "import pandas as pd\n",
    "\n",
    "grocery_list_df = pd.read_csv(\"grocery_list.csv\")\n",
    "\n",
    "grocery_list = grocery_list_df[\"item\"].tolist()\n",
    "\n",
    "print(grocery_list)"
   ]
  },
  {
   "cell_type": "code",
   "execution_count": 8,
   "id": "56318b7a-5388-409c-bfbd-78523a23b686",
   "metadata": {},
   "outputs": [
    {
     "name": "stdout",
     "output_type": "stream",
     "text": [
      "['Milk', 'Eggs', 'Bread', 'Apples', 'Bananas', 'Oranges', 'Grapes', 'Strawberries', 'Blueberries', 'Pineapple', 'Mango', 'Avocado', 'Tomato', 'Cucumber', 'Lettuce', 'Spinach', 'Broccoli', 'Carrots', 'Potatoes', 'Onions', 'Garlic', 'Ginger', 'Chicken', 'Beef', 'Pork', 'Salmon', 'Tuna', 'Rice', 'Pasta', 'Bread (whole wheat)', 'Cereal', 'Oatmeal', 'Yogurt', 'Milk (almond)', 'Cheese (cheddar)', 'Eggs (organic)', 'Butter', 'Olive oil', 'Salt', 'Pepper', 'Sugar', 'Coffee', 'Tea', 'Chocolate', 'Cookies', 'Chips', 'Ice cream', 'Pizza', 'Pasta sauce', 'Ketchup', 'Mustard', 'Kiwi', 'Raspberries']\n"
     ]
    }
   ],
   "source": [
    "items_to_add = [\"Kiwi\", \"Raspberries\"]\n",
    "\n",
    "for item in items_to_add:\n",
    "    grocery_list.append(item)\n",
    "\n",
    "print(grocery_list)"
   ]
  },
  {
   "cell_type": "code",
   "execution_count": 9,
   "id": "daee9ca6-2ab9-419c-9a5d-655280b3e6b8",
   "metadata": {},
   "outputs": [
    {
     "name": "stdin",
     "output_type": "stream",
     "text": [
      "Enter an item to add to your grocery list:  Chocolate\n"
     ]
    },
    {
     "name": "stdout",
     "output_type": "stream",
     "text": [
      "Updated list: ['Milk', 'Eggs', 'Bread', 'Apples', 'Bananas', 'Oranges', 'Grapes', 'Strawberries', 'Blueberries', 'Pineapple', 'Mango', 'Avocado', 'Tomato', 'Cucumber', 'Lettuce', 'Spinach', 'Broccoli', 'Carrots', 'Potatoes', 'Onions', 'Garlic', 'Ginger', 'Chicken', 'Beef', 'Pork', 'Salmon', 'Tuna', 'Rice', 'Pasta', 'Bread (whole wheat)', 'Cereal', 'Oatmeal', 'Yogurt', 'Milk (almond)', 'Cheese (cheddar)', 'Eggs (organic)', 'Butter', 'Olive oil', 'Salt', 'Pepper', 'Sugar', 'Coffee', 'Tea', 'Chocolate', 'Cookies', 'Chips', 'Ice cream', 'Pizza', 'Pasta sauce', 'Ketchup', 'Mustard', 'Kiwi', 'Raspberries', 'Chocolate']\n"
     ]
    }
   ],
   "source": [
    "# 1. Get user input\n",
    "new_item = input(\"Enter an item to add to your grocery list: \")  # Ask the user for an item and store their input\n",
    "\n",
    "# 2. Add the item to the list\n",
    "grocery_list.append(new_item)  # Add the new item to the end of the grocery list\n",
    "\n",
    "# 3. Print the updated list\n",
    "print(\"Updated list:\", grocery_list)  # Show the user the updated grocery list"
   ]
  },
  {
   "cell_type": "code",
   "execution_count": 10,
   "id": "8974e76c-abbc-4239-8130-0c6a0579edc3",
   "metadata": {},
   "outputs": [
    {
     "name": "stdout",
     "output_type": "stream",
     "text": [
      "Update Grocery List ['Milk', 'Eggs', 'Bread', 'Apples', 'Bananas', 'Oranges', 'Grapes', 'Strawberries', 'Blueberries', 'Pineapple', 'Mango', 'Avocado', 'Tomato', 'Cucumber', 'Lettuce', 'Spinach', 'Broccoli', 'Carrots', 'Potatoes', 'Onions', 'Garlic', 'Ginger', 'Chicken', 'Beef', 'Pork', 'Salmon', 'Tuna', 'Rice', 'Pasta', 'Bread (whole wheat)', 'Cereal', 'Oatmeal', 'Yogurt', 'Milk (almond)', 'Cheese (cheddar)', 'Eggs (organic)', 'Butter', 'Olive oil', 'Salt', 'Pepper', 'Sugar', 'Coffee', 'Tea', 'Chocolate', 'Cookies', 'Chips', 'Ice cream', 'Pizza', 'Pasta sauce', 'Ketchup', 'Mustard', 'Kiwi', 'Raspberries', 'Chocolate', 'Cinnamon', 'Paprika']\n"
     ]
    }
   ],
   "source": [
    "# Add \"Cinnamon\" and \"Paprika\" to the grocery list\n",
    "grocery_list.append(\"Cinnamon\")\n",
    "grocery_list.append(\"Paprika\")\n",
    "\n",
    "# Print the updated grocery list\n",
    "print(\"Update Grocery List\", grocery_list)\n"
   ]
  },
  {
   "cell_type": "code",
   "execution_count": 11,
   "id": "f75ac36f-0eac-4bc6-a7a3-cc7d08025ffe",
   "metadata": {},
   "outputs": [
    {
     "name": "stdout",
     "output_type": "stream",
     "text": [
      "\n",
      " Your Updates Grocery List (After removing items):\n",
      "['Milk', 'Eggs', 'Bread', 'Apples', 'Bananas', 'Oranges', 'Grapes', 'Strawberries', 'Blueberries', 'Pineapple', 'Mango', 'Avocado', 'Tomato', 'Cucumber', 'Lettuce', 'Spinach', 'Broccoli', 'Carrots', 'Potatoes', 'Onions', 'Garlic', 'Ginger', 'Chicken', 'Beef', 'Pork', 'Salmon', 'Tuna', 'Rice', 'Pasta', 'Bread (whole wheat)', 'Cereal', 'Oatmeal', 'Yogurt', 'Milk (almond)', 'Cheese (cheddar)', 'Eggs (organic)', 'Butter', 'Olive oil', 'Salt', 'Pepper', 'Sugar', 'Coffee', 'Tea', 'Chocolate', 'Cookies', 'Chips', 'Ice cream', 'Pizza', 'Pasta sauce', 'Ketchup', 'Mustard', 'Kiwi', 'Raspberries', 'Chocolate', 'Cinnamon', 'Paprika', 'Egss', 'Paprika']\n"
     ]
    }
   ],
   "source": [
    "# Remove \"Eggs\" and \"Apples\" from the grocery list\n",
    "grocery_list.append(\"Egss\")\n",
    "grocery_list.append(\"Paprika\")\n",
    "\n",
    "# Print the updated grocery list\n",
    "print(\"\\n Your Updates Grocery List (After removing items):\")\n",
    "print(grocery_list)"
   ]
  },
  {
   "cell_type": "code",
   "execution_count": null,
   "id": "f2266bdc-860d-4aec-8fb4-c5d6a5ae77d2",
   "metadata": {},
   "outputs": [],
   "source": []
  }
 ],
 "metadata": {
  "kernelspec": {
   "display_name": "Python (myenv)",
   "language": "python",
   "name": "myenv"
  },
  "language_info": {
   "codemirror_mode": {
    "name": "ipython",
    "version": 3
   },
   "file_extension": ".py",
   "mimetype": "text/x-python",
   "name": "python",
   "nbconvert_exporter": "python",
   "pygments_lexer": "ipython3",
   "version": "3.11.1"
  }
 },
 "nbformat": 4,
 "nbformat_minor": 5
}
