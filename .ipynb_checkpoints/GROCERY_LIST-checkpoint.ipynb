{
 "cells": [
  {
   "cell_type": "code",
   "execution_count": 4,
   "id": "167d70e2-3276-410f-9482-05294cd76158",
   "metadata": {},
   "outputs": [
    {
     "name": "stdout",
     "output_type": "stream",
     "text": [
      "['Milk', 'Eggs', 'Bread', 'Apples', 'Bananas', 'Oranges', 'Grapes', 'Strawberries', 'Blueberries', 'Pineapple', 'Mango', 'Avocado', 'Tomato', 'Cucumber', 'Lettuce', 'Spinach', 'Broccoli', 'Carrots', 'Potatoes', 'Onions', 'Garlic', 'Ginger', 'Chicken', 'Beef', 'Pork', 'Salmon', 'Tuna', 'Rice', 'Pasta', 'Bread (whole wheat)', 'Cereal', 'Oatmeal', 'Yogurt', 'Milk (almond)', 'Cheese (cheddar)', 'Eggs (organic)', 'Butter', 'Olive oil', 'Salt', 'Pepper', 'Sugar', 'Coffee', 'Tea', 'Chocolate', 'Cookies', 'Chips', 'Ice cream', 'Pizza', 'Pasta sauce', 'Ketchup', 'Mustard']\n"
     ]
    }
   ],
   "source": [
    "import pandas as pd\n",
    "\n",
    "grocery_list_df = pd.read_csv(\"grocery_list.csv\")\n",
    "\n",
    "grocery_list = grocery_list_df[\"item\"].tolist()\n",
    "\n",
    "print(grocery_list)"
   ]
  },
  {
   "cell_type": "code",
   "execution_count": 7,
   "id": "56318b7a-5388-409c-bfbd-78523a23b686",
   "metadata": {},
   "outputs": [
    {
     "ename": "NameError",
     "evalue": "name 'items_to_add' is not defined",
     "output_type": "error",
     "traceback": [
      "\u001b[1;31m---------------------------------------------------------------------------\u001b[0m",
      "\u001b[1;31mNameError\u001b[0m                                 Traceback (most recent call last)",
      "Cell \u001b[1;32mIn[7], line 3\u001b[0m\n\u001b[0;32m      1\u001b[0m aitems_to_add \u001b[38;5;241m=\u001b[39m [\u001b[38;5;124m\"\u001b[39m\u001b[38;5;124mKiwi\u001b[39m\u001b[38;5;124m\"\u001b[39m, \u001b[38;5;124m\"\u001b[39m\u001b[38;5;124mRaspberries\u001b[39m\u001b[38;5;124m\"\u001b[39m]\n\u001b[1;32m----> 3\u001b[0m \u001b[38;5;28;01mfor\u001b[39;00m item \u001b[38;5;129;01min\u001b[39;00m \u001b[43mitems_to_add\u001b[49m:\n\u001b[0;32m      4\u001b[0m     grocery_list\u001b[38;5;241m.\u001b[39mappend(item)\n\u001b[0;32m      6\u001b[0m \u001b[38;5;28mprint\u001b[39m(grocery_list)\n",
      "\u001b[1;31mNameError\u001b[0m: name 'items_to_add' is not defined"
     ]
    }
   ],
   "source": [
    "items_to_add = [\"Kiwi\", \"Raspberries\"]\n",
    "\n",
    "for item in items_to_add:\n",
    "    grocery_list.append(item)\n",
    "\n",
    "print(grocery_list)"
   ]
  },
  {
   "cell_type": "code",
   "execution_count": null,
   "id": "daee9ca6-2ab9-419c-9a5d-655280b3e6b8",
   "metadata": {},
   "outputs": [],
   "source": []
  },
  {
   "cell_type": "code",
   "execution_count": null,
   "id": "8974e76c-abbc-4239-8130-0c6a0579edc3",
   "metadata": {},
   "outputs": [],
   "source": []
  }
 ],
 "metadata": {
  "kernelspec": {
   "display_name": "Python (myenv)",
   "language": "python",
   "name": "myenv"
  },
  "language_info": {
   "codemirror_mode": {
    "name": "ipython",
    "version": 3
   },
   "file_extension": ".py",
   "mimetype": "text/x-python",
   "name": "python",
   "nbconvert_exporter": "python",
   "pygments_lexer": "ipython3",
   "version": "3.11.1"
  }
 },
 "nbformat": 4,
 "nbformat_minor": 5
}
