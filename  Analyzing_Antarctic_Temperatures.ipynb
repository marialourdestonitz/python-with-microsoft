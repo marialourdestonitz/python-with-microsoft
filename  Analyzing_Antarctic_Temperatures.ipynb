{
 "cells": [
  {
   "cell_type": "code",
   "execution_count": 7,
   "id": "1f8365de-8fd2-4a09-9afd-afbbc67a23cd",
   "metadata": {},
   "outputs": [
    {
     "name": "stdout",
     "output_type": "stream",
     "text": [
      "Highest temperature: -23.8 °C\n",
      "Lowest temperature: -29.2 °C\n",
      "Average Temperature: -26.4 °C\n",
      "The coldest temperate is: 29.2 °C below freezing.\n"
     ]
    }
   ],
   "source": [
    "# Provided temperature data\n",
    "antartic_temperatures = [-25.5, -28.0, -26.3, -23.8, -27.1, -24.9, -29.2]\n",
    "\n",
    "# Find the highest and lowest temperatures\n",
    "highest_temp = max(antartic_temperatures)\n",
    "lowest_temp = min(antartic_temperatures)\n",
    "\n",
    "print(\"Highest temperature:\",highest_temp, \"°C\")\n",
    "print(\"Lowest temperature:\",lowest_temp, \"°C\")\n",
    "\n",
    "# Calculate the average temperature\n",
    "average = round(sum(antartic_temperatures) / len(antartic_temperatures), 1)\n",
    "print(\"Average Temperature:\",average, \"°C\")\n",
    "\n",
    "# Find the absolute value of the coldest temperature\n",
    "coldest_temp = abs(lowest_temp)\n",
    "print(\"The coldest temperate is:\", coldest_temp, \"°C below freezing.\")\n"
   ]
  },
  {
   "cell_type": "code",
   "execution_count": null,
   "id": "50c881a3-d021-413c-b633-b5777f35b998",
   "metadata": {},
   "outputs": [],
   "source": []
  }
 ],
 "metadata": {
  "kernelspec": {
   "display_name": "Python (myenv)",
   "language": "python",
   "name": "myenv"
  },
  "language_info": {
   "codemirror_mode": {
    "name": "ipython",
    "version": 3
   },
   "file_extension": ".py",
   "mimetype": "text/x-python",
   "name": "python",
   "nbconvert_exporter": "python",
   "pygments_lexer": "ipython3",
   "version": "3.11.1"
  }
 },
 "nbformat": 4,
 "nbformat_minor": 5
}
